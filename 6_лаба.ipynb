{
  "cells": [
    {
      "cell_type": "markdown",
      "metadata": {
        "id": "SpWeyQLSMu9S"
      },
      "source": [
        "## **13.Структуры данных**\n",
        "\n",
        "---\n",
        "\n"
      ]
    },
    {
      "cell_type": "markdown",
      "metadata": {
        "id": "EAfTm9dSM1KJ"
      },
      "source": [
        "В этом разделе мы изучим два очень важных типа данных в Python — списки и словари. Они позволят значительно расширить наши возможности по работе с данными, поскольку предназначены для хранения наборов чисел, строк и других значений. Списки и словари имеют свои особенности и встречаются в абсолютном большинстве задач по обработке данных.\n",
        "\n",
        "В Python реализованы всевозможные методы для удобной работы со списками и словарями: фильтрации, сортировки, перебора значений и другие операции. Это делает Python быстрым и очень удобным инструментом для различной обработки наборов значений.\n",
        "\n",
        "---\n",
        "\n"
      ]
    },
    {
      "cell_type": "markdown",
      "metadata": {
        "id": "dSoi6-YCM8f5"
      },
      "source": [
        "# **13.1 Что такое список?**\n",
        "\n",
        "Использование переменных позволяет нам сделать код универсальным, но не позволяет хранить и обрабатывать более-менее большие объемы данных. Представьте себе, что вам нужно проанализировать данные о десяти заказах, полученных в течение прошедшего часа. Неужели придется создавать для этого 10 переменных? А если заказов 100? 1 000? 1 000 000?\n",
        "\n",
        "К счастью, все современные языки программирования помимо переменных позволяют использовать структуры данных, в которых под одним именем может храниться множество значений. В Python используется несколько видов таких структур, и одной из них являются списки.\n",
        "\n",
        "**Список в Python — это упорядоченная изменяемая коллекция объектов произвольных типов.**\n",
        "\n",
        "\n",
        "\n",
        "---\n",
        "\n",
        "Важно!\n",
        "\n",
        "Когда мы называем список коллекцией, мы имеем в виду, что в одном списке может храниться множество объектов (например, чисел или строковых величин).\n",
        "Говоря о том, что списки представляют собой упорядоченные коллекции, мы обращаем внимание на то, что каждый элемент в списке имеет свой порядковый номер.\n",
        "Упоминание об изменяемости списков означает, что в процессе исполнения кода можно изменять состав элементов списка и последовательность их расположения.\n",
        "Выражение «произвольных типов» означает, что в списке могут храниться данные, относящиеся к любым типам из тех, с которыми работает Python."
      ]
    },
    {
      "cell_type": "markdown",
      "metadata": {
        "id": "f3duiO7-NP9M"
      },
      "source": [
        "# **13.2 Создание пустого списка**\n",
        "Первый способ создания пустого (т.е. не содержащего никаких элементов) списка связан с использованием конструктора типов list:"
      ]
    },
    {
      "cell_type": "code",
      "execution_count": 1,
      "metadata": {
        "id": "Y8Vpn3e4NVYf"
      },
      "outputs": [],
      "source": [
        "my_list = list()"
      ]
    },
    {
      "cell_type": "markdown",
      "metadata": {
        "id": "e9a__m2VNWgf"
      },
      "source": [
        "Другой вариант создания списка предполагает использование квадратных скобок, в которые заключаются элементы списка. Если мы используем скобки без каких-либо элементов, список получится пустым:"
      ]
    },
    {
      "cell_type": "code",
      "execution_count": 2,
      "metadata": {
        "id": "fci7woRaNZhX"
      },
      "outputs": [],
      "source": [
        "my_list = []"
      ]
    },
    {
      "cell_type": "markdown",
      "metadata": {
        "id": "T4Cj9Ec3NaAt"
      },
      "source": [
        "В обоих случаях созданная переменная будет являться списком. Убедиться в этом можно, выполнив следующий код:"
      ]
    },
    {
      "cell_type": "code",
      "execution_count": 3,
      "metadata": {
        "id": "Gv9YemptNcVq"
      },
      "outputs": [
        {
          "data": {
            "text/plain": [
              "list"
            ]
          },
          "execution_count": 3,
          "metadata": {},
          "output_type": "execute_result"
        }
      ],
      "source": [
        "type(my_list)"
      ]
    },
    {
      "cell_type": "markdown",
      "metadata": {
        "id": "m4eFASoVNckM"
      },
      "source": [
        "# **13.3 Создание списка, содержащего перечень элементов**\n",
        "\n",
        "В предыдущем параграфе мы уже упоминали о том, что список можно создать, перечислив элементы будущего списка в квадратных скобках. Элементы, заключенные в скобки, нужно отделять друг от друга запятыми. После запятых можно ставить пробелы, но это не обязательно. Давайте рассмотрим несколько примеров создания и заполнения списков.\n",
        "\n",
        "Список, содержащий натуральные числа от 1 до 10:"
      ]
    },
    {
      "cell_type": "code",
      "execution_count": 4,
      "metadata": {
        "id": "avEL0sk_NjTB"
      },
      "outputs": [],
      "source": [
        "numbers = [1, 2, 3, 4, 5, 6, 7, 8, 9, 10]"
      ]
    },
    {
      "cell_type": "markdown",
      "metadata": {
        "id": "g5dyVYK8NhfW"
      },
      "source": [
        "Список, содержащий гласные буквы русского алфавита:"
      ]
    },
    {
      "cell_type": "code",
      "execution_count": 5,
      "metadata": {
        "id": "6IAeZMuPNlay"
      },
      "outputs": [],
      "source": [
        "vowels = ['а', 'е', 'ё', 'и', 'о', 'у', 'ы', 'э', 'ю', 'я']"
      ]
    },
    {
      "cell_type": "markdown",
      "metadata": {
        "id": "lz1CqT9fNmxx"
      },
      "source": [
        "Список, содержащий названия самых популярных языков программирования:"
      ]
    },
    {
      "cell_type": "code",
      "execution_count": 6,
      "metadata": {
        "id": "9En5V-UENn7f"
      },
      "outputs": [],
      "source": [
        "languages = ['Java', 'C', 'Python', 'C++', 'Visual Basic.NET']"
      ]
    },
    {
      "cell_type": "markdown",
      "metadata": {
        "id": "bee6__0CNo7c"
      },
      "source": [
        "Не забудьте о том, что имена переменных, которыми мы называем списки, выбирает программист, поэтому на самом деле имена могут быть какими угодно. Например, мы вполне могли бы назвать первый список XFiles, или просто Х. На содержание списка его имя никак не влияет, оно просто помогает нам ориентироваться в коде."
      ]
    },
    {
      "cell_type": "markdown",
      "metadata": {
        "id": "GWcTT4q_NuRo"
      },
      "source": [
        "# **14. Метод split**\n",
        "Если вы попробуете самостоятельно набрать в Jupyter notebook код, отвечающий за создание списка vowels из предыдущего параграфа, то вы наверняка заметите, что постоянное переключение с русской раскладки на латинскую, а также необходимость постоянно открывать и закрывать апострофы, — занятие малоприятное и весьма утомительное. Для избавления от ненужной рутины при создании списков, содержащих строковые величины, можно использовать метод split.\n",
        "\n",
        "Данный метод применяется к строковым объектам и позволяет разбивать их на элементы, разделенные каким-либо символом (пробелом, запятой, тире или даже целой последовательностью символов). Каждый элемент после применения метода split становится отдельным элементом списка.\n",
        "\n",
        "Рассмотрим пример:"
      ]
    },
    {
      "cell_type": "code",
      "execution_count": 7,
      "metadata": {
        "id": "J6inzTcVNzVS"
      },
      "outputs": [],
      "source": [
        "animals = 'кошка,собака,хомяк,морская свинка,попугай,лошадь'.split(',')"
      ]
    },
    {
      "cell_type": "markdown",
      "metadata": {
        "id": "VBWIC7cgN845"
      },
      "source": [
        "![image.png](data:image/png;base64,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)"
      ]
    },
    {
      "cell_type": "markdown",
      "metadata": {
        "id": "dKpwjigLN5Rq"
      },
      "source": []
    },
    {
      "cell_type": "markdown",
      "metadata": {
        "id": "lYpu_u5DOESN"
      },
      "source": [
        "Итак, список создан, и нам не терпится начать работать с его элементами. Прежде всего мы должны научиться извлекать элементы списка по их порядковому номеру. Порядковый номер элемента списка называется индекс.\n",
        "\n",
        "---\n",
        "**Важно!**\n",
        "\n",
        "В Python, как и во многих других языках программирования, индексация элементов списка начинается не с единицы, а с нуля. Таким образом, самый первый элемент списка имеет индекс [0].\n",
        "\n",
        "---\n",
        "\n",
        "\n",
        "Для обращения к элементу списка необходимо указать имя переменной, в которой хранится список, а далее в квадратных скобках указать индекс нужного элемента. Например, в созданном на предыдущем шаге списке animals, элемент с индексом [0] — это кошка; с индексом 2 — хомяк, с индексом 3 — морская свинка.\n",
        "\n",
        "Попробуйте повторно создать данный список и поэкспериментировать с его элементами:"
      ]
    },
    {
      "cell_type": "code",
      "execution_count": 8,
      "metadata": {
        "colab": {
          "base_uri": "https://localhost:8080/"
        },
        "id": "hKKZf2chN99a",
        "outputId": "1b60cad1-5a60-432d-daa8-02d6e70588e9"
      },
      "outputs": [
        {
          "name": "stdout",
          "output_type": "stream",
          "text": [
            "кошка\n",
            "хомяк\n",
            "морская свинка\n"
          ]
        }
      ],
      "source": [
        "animals = ['кошка', 'собака', 'хомяк', 'морская свинка', 'попугай', 'лошадь']\n",
        "print(animals[0])\n",
        "print(animals[2])\n",
        "print(animals[3])"
      ]
    },
    {
      "cell_type": "markdown",
      "metadata": {
        "id": "r8xy6LSbOLqq"
      },
      "source": [
        "Списки можно читать не только слева направо, но и справа налево. Для того, чтобы обратиться к элементу списка, просматривая его содержимое в обратном порядке, мы можем использовать так называемую отрицательную индексацию. При использовании отрицательных индексов самый последний элемент списка будет иметь индекс [-1], предпоследний — [-2], и так далее."
      ]
    },
    {
      "cell_type": "code",
      "execution_count": 9,
      "metadata": {
        "id": "sGRMJ55uOTSR"
      },
      "outputs": [
        {
          "name": "stdout",
          "output_type": "stream",
          "text": [
            "попугай\n",
            "морская свинка\n"
          ]
        }
      ],
      "source": [
        "animals = ['кошка', 'собака', 'хомяк', 'морская свинка', 'попугай', 'лошадь']\n",
        "print(animals[-2])\n",
        "print(animals[-3])"
      ]
    },
    {
      "cell_type": "markdown",
      "metadata": {
        "id": "CYSJLLX6OWWq"
      },
      "source": [
        "Важно!\n",
        "\n",
        "При использовании отрицательной индексации первый элемент справа имеет индекс [-1], а не [-0], т.к. число 0 не может быть положительным или отрицательным."
      ]
    },
    {
      "cell_type": "markdown",
      "metadata": {
        "id": "WWx3WZvnOaxC"
      },
      "source": [
        "Таким образом, правило о начале индексации с нуля применимо только в случае нумерации элементов слева направо. Давайте поэкспериментируем со списком animals, извлекая из него названия животных с помощью отрицательных индексов."
      ]
    },
    {
      "cell_type": "markdown",
      "metadata": {
        "id": "peqlqV07OfJg"
      },
      "source": [
        "# **ЗАДАНИЯ**\n",
        "\n",
        "Важно!\n",
        "\n",
        "В некоторых заданиях этого шага вам нужно будет написать код для извлечения указанного элемента. Код нужно будет писать в одну строку без пробелов. Не забывайте указывать имя переменной. Также обращайте внимание на то, какой индекс (положительный или отрицательный) требуется использовать в условии задания.\n",
        "\n",
        "Исходный список:"
      ]
    },
    {
      "cell_type": "code",
      "execution_count": 10,
      "metadata": {
        "id": "wuwmW9HqOyfb"
      },
      "outputs": [],
      "source": [
        "OurBestStudents = ['Александр', 'Константин', 'Мария', 'Диана', 'Алексей',\n",
        "                   'Максим', 'Светлана', 'Арина', 'Серафим', 'Doomer',\n",
        "                   'Павел', 'Виктория', 'Елена', 'Галина', 'Вячеслав']"
      ]
    },
    {
      "cell_type": "markdown",
      "metadata": {
        "id": "ixSqtX_DO0r7"
      },
      "source": [
        "Задание 1\n",
        "\n",
        "Напишите код, который нужно передать в функцию print, чтобы извлечь из списка OurBestStudents имя \"Александр\". Используйте положительную индексацию (слева направо)."
      ]
    },
    {
      "cell_type": "code",
      "execution_count": 11,
      "metadata": {
        "id": "qKNJRpObO81S"
      },
      "outputs": [
        {
          "data": {
            "text/plain": [
              "'Александр'"
            ]
          },
          "execution_count": 11,
          "metadata": {},
          "output_type": "execute_result"
        }
      ],
      "source": [
        "OurBestStudents[0]"
      ]
    },
    {
      "cell_type": "markdown",
      "metadata": {
        "id": "0eKNrzrFO9KJ"
      },
      "source": [
        "Задание 2\n",
        "\n",
        "Напишите код, с помощью которого можно извлечь из списка OurBestStudents имя \"Мария\". Используйте положительную индексацию (слева направо)"
      ]
    },
    {
      "cell_type": "code",
      "execution_count": 12,
      "metadata": {
        "id": "iXtN4GqLO_Bm"
      },
      "outputs": [
        {
          "data": {
            "text/plain": [
              "'Мария'"
            ]
          },
          "execution_count": 12,
          "metadata": {},
          "output_type": "execute_result"
        }
      ],
      "source": [
        "OurBestStudents[2]"
      ]
    },
    {
      "cell_type": "markdown",
      "metadata": {
        "id": "SU5nc-qQPBbN"
      },
      "source": [
        "Задание 3\n",
        "\n",
        "Напишите код, с помощью которого можно извлечь из списка OurBestStudents имя \"Вячеслав\". Используйте отрицательную индексацию (справа налево)"
      ]
    },
    {
      "cell_type": "code",
      "execution_count": 13,
      "metadata": {
        "id": "-zdR9tt1PAre"
      },
      "outputs": [
        {
          "data": {
            "text/plain": [
              "'Вячеслав'"
            ]
          },
          "execution_count": 13,
          "metadata": {},
          "output_type": "execute_result"
        }
      ],
      "source": [
        "OurBestStudents[-1]"
      ]
    },
    {
      "cell_type": "markdown",
      "metadata": {
        "id": "ohZ5jjbdPDn5"
      },
      "source": [
        "Задание 4\n",
        "\n",
        "Напишите код, с помощью которого можно извлечь из списка OurBestStudents имя \"Вячеслав\". Используйте положительную индексацию (слева направо)"
      ]
    },
    {
      "cell_type": "code",
      "execution_count": 14,
      "metadata": {
        "id": "xJdhhVokPEs-"
      },
      "outputs": [
        {
          "data": {
            "text/plain": [
              "'Вячеслав'"
            ]
          },
          "execution_count": 14,
          "metadata": {},
          "output_type": "execute_result"
        }
      ],
      "source": [
        "OurBestStudents[len(OurBestStudents)-1]"
      ]
    },
    {
      "cell_type": "markdown",
      "metadata": {
        "id": "rYc8Ph0ZPE2z"
      },
      "source": [
        "Задание 5\n",
        "\n",
        "Напишите код, с помощью которого можно извлечь из списка OurBestStudents имя \"Арина\". Используйте отрицательную индексацию (справа налево)"
      ]
    },
    {
      "cell_type": "code",
      "execution_count": 15,
      "metadata": {
        "id": "p_1wHEtsPM6f"
      },
      "outputs": [
        {
          "data": {
            "text/plain": [
              "'Арина'"
            ]
          },
          "execution_count": 15,
          "metadata": {},
          "output_type": "execute_result"
        }
      ],
      "source": [
        "OurBestStudents[-8]"
      ]
    },
    {
      "cell_type": "markdown",
      "metadata": {
        "id": "WkyVYhUIPL0D"
      },
      "source": [
        "Задание 6\n",
        "\n",
        "Отметьте индексы элементов списка OurBestStudents, которые соответствуют мужским именам"
      ]
    },
    {
      "cell_type": "code",
      "execution_count": 36,
      "metadata": {
        "id": "8Ma7cs-6PMHQ"
      },
      "outputs": [
        {
          "name": "stdout",
          "output_type": "stream",
          "text": [
            "0\n",
            "1\n",
            "4\n",
            "5\n",
            "8\n",
            "9\n",
            "10\n",
            "14\n"
          ]
        }
      ],
      "source": [
        "print(*[OurBestStudents.index(name) for name in OurBestStudents if name[-1] not in ('а', 'я')], sep='\\n')"
      ]
    },
    {
      "cell_type": "markdown",
      "metadata": {
        "id": "E2P6Qt2HPPbc"
      },
      "source": [
        "Задание 7\n",
        "\n",
        "Отметьте индексы элементов списка OurBestStudents, которые соответствуют именам, начинающимся с согласной буквы."
      ]
    },
    {
      "cell_type": "code",
      "execution_count": 37,
      "metadata": {
        "id": "ESHMFlVZPPsw"
      },
      "outputs": [
        {
          "name": "stdout",
          "output_type": "stream",
          "text": [
            "1\n",
            "2\n",
            "3\n",
            "5\n",
            "6\n",
            "8\n",
            "9\n",
            "10\n",
            "11\n",
            "13\n",
            "14\n"
          ]
        }
      ],
      "source": [
        "print(*[OurBestStudents.index(name) for name in OurBestStudents if name[0].lower() not in ('а', 'я', 'ю', 'и', 'е', 'ё', 'ы')], sep='\\n')"
      ]
    },
    {
      "cell_type": "markdown",
      "metadata": {
        "id": "3UcWbG8JPS2O"
      },
      "source": [
        "Задание 8\n",
        "\n",
        "Отметьте индексы элементов списка OurBestStudents, которые соответствуют именам, начинающимся с гласной буквы."
      ]
    },
    {
      "cell_type": "code",
      "execution_count": 38,
      "metadata": {
        "id": "4JAwvOyQPV3o"
      },
      "outputs": [
        {
          "name": "stdout",
          "output_type": "stream",
          "text": [
            "0\n",
            "4\n",
            "7\n",
            "12\n"
          ]
        }
      ],
      "source": [
        "print(*[OurBestStudents.index(name) for name in OurBestStudents if name[0].lower() in ('а', 'я', 'ю', 'и', 'е', 'ё', 'ы')], sep='\\n')"
      ]
    },
    {
      "cell_type": "markdown",
      "metadata": {
        "id": "eqXzsfsAPkAX"
      },
      "source": [
        "# **15. РАБОТА СО СРЕЗАМИ**\n",
        "\n",
        "---\n",
        "\n"
      ]
    },
    {
      "cell_type": "markdown",
      "metadata": {
        "id": "jBFzkwSWPnfP"
      },
      "source": [
        "Часто нам нужно извлечь из списка не один элемент, а сразу несколько элементов, идущих друг за другом. Возможно ли сделать такую операцию со списками Python? Разумеется, да. Для работы с группами элементов списков в Python имеется очень гибкий инструмент, который называется срез (slice).\n",
        "\n",
        "В этом блоке под срезом мы будем понимать часть списка, содержащую один или несколько элементов, расположенных в списке один за другим в прямой или обратной последовательности. При создании среза нужно указать индексы, соответствующие первому элементу среза и (внимание!) элементу, следующему за последним элементом среза. Оба индекса указываются в квадратных скобках, между индексами ставится двоеточие.\n",
        "\n",
        "Иными словами, если мы создали список, содержащий названия семи цветов радуги:\n"
      ]
    },
    {
      "cell_type": "code",
      "execution_count": 17,
      "metadata": {
        "id": "tUCNihwcP4XS"
      },
      "outputs": [],
      "source": [
        "colors = ['красный', 'оранжевый', 'жёлтый', 'зелёный', 'голубой', 'синий', 'фиолетовый']"
      ]
    },
    {
      "cell_type": "markdown",
      "metadata": {
        "id": "BkD6eZ4aP6TF"
      },
      "source": [
        "то по команде:"
      ]
    },
    {
      "cell_type": "code",
      "execution_count": 18,
      "metadata": {
        "colab": {
          "base_uri": "https://localhost:8080/"
        },
        "id": "a6gmUq2wP7ud",
        "outputId": "ab03f4b4-d221-43a4-a37c-e4cf563bf64c"
      },
      "outputs": [
        {
          "data": {
            "text/plain": [
              "['оранжевый', 'жёлтый', 'зелёный']"
            ]
          },
          "execution_count": 18,
          "metadata": {},
          "output_type": "execute_result"
        }
      ],
      "source": [
        "colors[1:4]"
      ]
    },
    {
      "cell_type": "markdown",
      "metadata": {
        "id": "0qgl08ryP88N"
      },
      "source": [
        "мы получим названия трёх цветов: оранжевый, жёлтый и зелёный. Элемент с индексом [4] не будет включен в состав среза. Это особенность синтаксиса, которую нужно запомнить и использовать при работе со срезами.\n",
        "\n",
        "При создании срезов можно использовать как положительные, так и отрицательные индексы. Например, для извлечения жёлтого, зелёного и голубого цветов одинаково подойдут следующие варианты кода:"
      ]
    },
    {
      "cell_type": "code",
      "execution_count": 19,
      "metadata": {
        "id": "WO_6ThgGQEB4"
      },
      "outputs": [
        {
          "data": {
            "text/plain": [
              "['жёлтый', 'зелёный', 'голубой']"
            ]
          },
          "execution_count": 19,
          "metadata": {},
          "output_type": "execute_result"
        }
      ],
      "source": [
        "colors[2:5]"
      ]
    },
    {
      "cell_type": "code",
      "execution_count": 20,
      "metadata": {
        "id": "AIoMgCopQEX4"
      },
      "outputs": [
        {
          "data": {
            "text/plain": [
              "['жёлтый', 'зелёный', 'голубой']"
            ]
          },
          "execution_count": 20,
          "metadata": {},
          "output_type": "execute_result"
        }
      ],
      "source": [
        "colors[2:-2]"
      ]
    },
    {
      "cell_type": "code",
      "execution_count": 21,
      "metadata": {
        "id": "Kf4NpSX8QGDc"
      },
      "outputs": [
        {
          "data": {
            "text/plain": [
              "['жёлтый', 'зелёный', 'голубой']"
            ]
          },
          "execution_count": 21,
          "metadata": {},
          "output_type": "execute_result"
        }
      ],
      "source": [
        "colors[-5:-2]"
      ]
    },
    {
      "cell_type": "code",
      "execution_count": 22,
      "metadata": {
        "id": "siKtwMbUQHTf"
      },
      "outputs": [
        {
          "data": {
            "text/plain": [
              "['жёлтый', 'зелёный', 'голубой']"
            ]
          },
          "execution_count": 22,
          "metadata": {},
          "output_type": "execute_result"
        }
      ],
      "source": [
        "colors[-5:5]"
      ]
    },
    {
      "cell_type": "markdown",
      "metadata": {
        "id": "NI2DEtvpP-rV"
      },
      "source": [
        "# **15.1 Границы срезов**\n",
        "\n",
        "Индексы, указывающие на первый элемент среза и элемент, следующий за последним, называют границами срезов. Как вы помните, при создании среза элемент, чей индекс указан в качестве верхней границы, не будет включен в срез. Возникает вопрос: как же тогда создать срез, включающий последний элемент списка?\n",
        "\n",
        "Для решения этой задачи можно воспользоваться простым трюком: не указывать верхнюю границу среза вовсе. Такая форма записи трактуется интерпретатором Python как \"до конца списка\".\n",
        "\n",
        "Проверьте, что станет результатом выполнения этой команды:"
      ]
    },
    {
      "cell_type": "code",
      "execution_count": 39,
      "metadata": {
        "id": "Ie8LUUCyQJ4g"
      },
      "outputs": [
        {
          "data": {
            "text/plain": [
              "['голубой', 'синий', 'фиолетовый']"
            ]
          },
          "execution_count": 39,
          "metadata": {},
          "output_type": "execute_result"
        }
      ],
      "source": [
        "colors[-3:]"
      ]
    },
    {
      "cell_type": "markdown",
      "metadata": {
        "id": "Lczx8D1VQOC_"
      },
      "source": [
        "Таким же образом можно не указывать и нижний индекс, т.е. первый элемент среза, в случае, если вы хотите извлекать элементы из начала списка:"
      ]
    },
    {
      "cell_type": "code",
      "execution_count": 24,
      "metadata": {
        "id": "HEecxXEQQRDC"
      },
      "outputs": [
        {
          "data": {
            "text/plain": [
              "['красный', 'оранжевый', 'жёлтый']"
            ]
          },
          "execution_count": 24,
          "metadata": {},
          "output_type": "execute_result"
        }
      ],
      "source": [
        "colors[:3]"
      ]
    },
    {
      "cell_type": "markdown",
      "metadata": {
        "id": "mamjuSHQQRbE"
      },
      "source": [
        "Давайте потренируемся работать со срезами. В следующих пяти упражнениях мы будем использовать список, содержащий перечень частей тела человека"
      ]
    },
    {
      "cell_type": "code",
      "execution_count": 25,
      "metadata": {
        "id": "Rcq9Mr-qQZGh"
      },
      "outputs": [],
      "source": [
        "body = ['голова', 'руки', 'ноги', 'глаза', 'уши', 'рот', 'нос', 'туловище']"
      ]
    },
    {
      "cell_type": "markdown",
      "metadata": {
        "id": "Q_XGWolKQZjR"
      },
      "source": [
        "Задание 1\n",
        "\n",
        "Напишите 3 варианта, с помощью которых можно извлечь из списка названия частей лица (глаза, уши, рот, нос)"
      ]
    },
    {
      "cell_type": "code",
      "execution_count": 45,
      "metadata": {
        "id": "QetpE2_lQg_m"
      },
      "outputs": [
        {
          "data": {
            "text/plain": [
              "['глаза', 'уши', 'рот', 'нос']"
            ]
          },
          "execution_count": 45,
          "metadata": {},
          "output_type": "execute_result"
        }
      ],
      "source": [
        "body[3:7]"
      ]
    },
    {
      "cell_type": "code",
      "execution_count": 47,
      "metadata": {},
      "outputs": [
        {
          "data": {
            "text/plain": [
              "['глаза', 'уши', 'рот', 'нос']"
            ]
          },
          "execution_count": 47,
          "metadata": {},
          "output_type": "execute_result"
        }
      ],
      "source": [
        "body[-5:-1]"
      ]
    },
    {
      "cell_type": "code",
      "execution_count": 48,
      "metadata": {},
      "outputs": [
        {
          "data": {
            "text/plain": [
              "['глаза', 'уши', 'рот', 'нос']"
            ]
          },
          "execution_count": 48,
          "metadata": {},
          "output_type": "execute_result"
        }
      ],
      "source": [
        "body[3:-1]"
      ]
    },
    {
      "cell_type": "markdown",
      "metadata": {
        "id": "uK1JoW0aQllR"
      },
      "source": [
        "Задание 2\n",
        "\n",
        "Введите в текстовое поле код, с помощью которого можно извлечь из списка названия конечностей (руки, ноги). Код введите в одну строку без пробелов. Используйте только положительные индексы."
      ]
    },
    {
      "cell_type": "code",
      "execution_count": 50,
      "metadata": {
        "id": "JsZap9X8QnSj"
      },
      "outputs": [
        {
          "data": {
            "text/plain": [
              "['руки', 'ноги']"
            ]
          },
          "execution_count": 50,
          "metadata": {},
          "output_type": "execute_result"
        }
      ],
      "source": [
        "body[1:3]"
      ]
    },
    {
      "cell_type": "markdown",
      "metadata": {
        "id": "n_LQsR-VQnwi"
      },
      "source": [
        "Задание 3\n",
        "\n",
        "Введите в текстовое поле код, с помощью которого можно извлечь из списка названия конечностей (руки, ноги). Код введите в одну строку без пробелов. Используйте только отрицательные индексы."
      ]
    },
    {
      "cell_type": "code",
      "execution_count": 52,
      "metadata": {
        "id": "EIIhwvuKQpuG"
      },
      "outputs": [
        {
          "data": {
            "text/plain": [
              "['руки', 'ноги']"
            ]
          },
          "execution_count": 52,
          "metadata": {},
          "output_type": "execute_result"
        }
      ],
      "source": [
        "body[-7:-5]"
      ]
    },
    {
      "cell_type": "markdown",
      "metadata": {
        "id": "BdAeyjyxQxHm"
      },
      "source": [
        "# **15.2 Срез с шагом**\n",
        "\n",
        "Можно ли \"перепрыгнуть\" через определённые элементы списка при создании среза?\n",
        "\n",
        "Иногда нам нужно извлечь из списка не все значения подряд, а, например, каждый третий элемент, или только четные элементы. Такая операция возможна в Python. Для её выполнения при создании среза нам понадобится ещё один параметр — шаг. Шаг указывается после верхней и нижней границ среза и отделён от них двоеточием.\n",
        "\n",
        "Рассмотрим пример. Предположим, у нас есть список, содержащий клички кроликов, продающихся в зоомагазине:"
      ]
    },
    {
      "cell_type": "code",
      "execution_count": 53,
      "metadata": {
        "id": "nfo7DZdyQ21x"
      },
      "outputs": [],
      "source": [
        "rabbits = ['Пушок', 'Дружок', 'Мурзик', 'Барсик', 'Эдуард', 'Ушастик', 'Роджер', 'Трус']"
      ]
    },
    {
      "cell_type": "markdown",
      "metadata": {
        "id": "_Cta7JGkQ4JM"
      },
      "source": [
        "Для проведения рекламной кампании мы организовали фотосессию, для которой нужно выбрать четырёх кроликов. Давайте попробуем выбрать из списка каждого второго кролика, начиная с Пушка.\n",
        "\n",
        "Для решения этой задачи нужно использовать следующий синтаксис:"
      ]
    },
    {
      "cell_type": "code",
      "execution_count": 54,
      "metadata": {
        "id": "CMe7xu49Q5zn"
      },
      "outputs": [
        {
          "data": {
            "text/plain": [
              "['Пушок', 'Мурзик', 'Эдуард', 'Роджер']"
            ]
          },
          "execution_count": 54,
          "metadata": {},
          "output_type": "execute_result"
        }
      ],
      "source": [
        "rabbits[0:7:2]"
      ]
    },
    {
      "cell_type": "markdown",
      "metadata": {
        "id": "Xcw2RpwPQ7cd"
      },
      "source": [
        "Данный код извлекает из списка кроликов с первого (индекс [0]) до последнего (индекс [7], данный кролик не включается в срез) и из полученного набора выбирает только кроликов с индексами 0, 0+2, 0+2+2, 0+2+2+2:\n",
        "\n",
        "![image.png](data:image/png;base64,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)"
      ]
    },
    {
      "cell_type": "markdown",
      "metadata": {
        "id": "UEjStnHuQ-Gr"
      },
      "source": [
        "Если нужно включить в срез первый и (или) последний элементы, то можно не задавать соответствующие границы:"
      ]
    },
    {
      "cell_type": "code",
      "execution_count": 28,
      "metadata": {
        "id": "etFf-hmYQ-ve"
      },
      "outputs": [
        {
          "data": {
            "text/plain": [
              "['Пушок', 'Мурзик', 'Эдуард', 'Роджер']"
            ]
          },
          "execution_count": 28,
          "metadata": {},
          "output_type": "execute_result"
        }
      ],
      "source": [
        "rabbits[:7:2]"
      ]
    },
    {
      "cell_type": "code",
      "execution_count": 29,
      "metadata": {
        "id": "XaxScYpAREq2"
      },
      "outputs": [
        {
          "data": {
            "text/plain": [
              "['Пушок', 'Мурзик', 'Эдуард', 'Роджер']"
            ]
          },
          "execution_count": 29,
          "metadata": {},
          "output_type": "execute_result"
        }
      ],
      "source": [
        "rabbits[0::2]"
      ]
    },
    {
      "cell_type": "code",
      "execution_count": 30,
      "metadata": {
        "id": "t5IVPRpEREjJ"
      },
      "outputs": [
        {
          "data": {
            "text/plain": [
              "['Пушок', 'Мурзик', 'Эдуард', 'Роджер']"
            ]
          },
          "execution_count": 30,
          "metadata": {},
          "output_type": "execute_result"
        }
      ],
      "source": [
        "rabbits[::2]"
      ]
    },
    {
      "cell_type": "markdown",
      "metadata": {
        "id": "9j5huHp4RG5s"
      },
      "source": [
        "Шаг может иметь отрицательное значение. В этом случае элементы списка будут выводиться в обратном порядке. Значения индексов для обозначения верхней и нижней границы среза в таком случае нужно будет поменять местами, расположив их в том порядке, в котором из списка будут извлекаться элементы:"
      ]
    },
    {
      "cell_type": "code",
      "execution_count": 31,
      "metadata": {
        "id": "X87oLWzxRJC9"
      },
      "outputs": [
        {
          "data": {
            "text/plain": [
              "['Трус', 'Ушастик', 'Барсик', 'Дружок']"
            ]
          },
          "execution_count": 31,
          "metadata": {},
          "output_type": "execute_result"
        }
      ],
      "source": [
        "rabbits[7::-2]"
      ]
    },
    {
      "cell_type": "code",
      "execution_count": 32,
      "metadata": {
        "id": "p_F21IL0RKaY"
      },
      "outputs": [
        {
          "data": {
            "text/plain": [
              "['Трус', 'Ушастик', 'Барсик', 'Дружок']"
            ]
          },
          "execution_count": 32,
          "metadata": {},
          "output_type": "execute_result"
        }
      ],
      "source": [
        "rabbits[:0:-2]"
      ]
    },
    {
      "cell_type": "code",
      "execution_count": 33,
      "metadata": {
        "id": "l0DzrK6GRKTb"
      },
      "outputs": [
        {
          "data": {
            "text/plain": [
              "['Трус', 'Ушастик', 'Барсик', 'Дружок']"
            ]
          },
          "execution_count": 33,
          "metadata": {},
          "output_type": "execute_result"
        }
      ],
      "source": [
        "rabbits[::-2]"
      ]
    },
    {
      "cell_type": "markdown",
      "metadata": {
        "id": "8nJEnDi-RQW4"
      },
      "source": [
        "Давайте потренируемся извлекать данные из списков с использованием срезов с шагом\n",
        "\n",
        "Во всех заданиях этого блока мы будем работать со списком, содержащим фамилии сотрудников ТОО «Рога и копыта» из города N.\n",
        "\n",
        "Вот этот список:"
      ]
    },
    {
      "cell_type": "code",
      "execution_count": 34,
      "metadata": {
        "id": "IMZwY0uzRRsT"
      },
      "outputs": [],
      "source": [
        "sparta = ['Иванов', 'Петров', 'Сидоров', 'Зайцев', 'Дятлов',\n",
        "          'Козлов', 'Лисичкин', 'Огурцов', 'Капустин', 'Арбузов']"
      ]
    },
    {
      "cell_type": "markdown",
      "metadata": {
        "id": "6OJ_CWbKRS14"
      },
      "source": [
        "Задание 1\n",
        "\n",
        "В ближайшее воскресенье в городе проводится выставка, в которой должны принять участие пять сотрудников фирмы. Поскольку большого желания участвовать в выставке в выходной день никто не изъявил, выбор решено было доверить компьютеру.\n",
        "\n",
        "Напишите код, который выберет из списка каждого второго сотрудника, начиная с Иванова (т.е. Иванова, Сидорова, Дятлова, Лисичкина и Капустина).\n",
        "\n",
        "Запишите свой код в одну строку без пробелов. Индексы верхней и нижней границ задайте в явном виде. Не забудьте о правильном написании имени переменной, в которой хранится список"
      ]
    },
    {
      "cell_type": "code",
      "execution_count": 56,
      "metadata": {
        "id": "QJDRFsVIRVel"
      },
      "outputs": [
        {
          "data": {
            "text/plain": [
              "['Иванов', 'Сидоров', 'Дятлов', 'Лисичкин', 'Капустин']"
            ]
          },
          "execution_count": 56,
          "metadata": {},
          "output_type": "execute_result"
        }
      ],
      "source": [
        "sparta[::2]"
      ]
    },
    {
      "cell_type": "markdown",
      "metadata": {
        "id": "v5oIWuhiRXIh"
      },
      "source": [
        "Задание 2\n",
        "\n",
        "Приближается профессиональный праздник, который в данном ТОО всегда отмечают с большим размахом. К празднику руководство решило поощрить трех рядовых сотрудников. Чтобы никому не было обидно, выбор сотрудников решено было доверить компьютеру.\n",
        "\n",
        "Напишите код, с помощью которого можно извлечь из списка фамилии каждого третьего сотрудника, начиная с Петрова (т.е. Петрова, Дятлова и Огурцова).\n",
        "\n",
        "Запишите свой код в одну строку без пробелов. Индексы верхней и нижней границ задайте в явном виде. Не забудьте о правильном написании имени переменной, в которой хранится список"
      ]
    },
    {
      "cell_type": "code",
      "execution_count": 57,
      "metadata": {
        "id": "g62nwAd4RYiK"
      },
      "outputs": [
        {
          "data": {
            "text/plain": [
              "['Петров', 'Дятлов', 'Огурцов']"
            ]
          },
          "execution_count": 57,
          "metadata": {},
          "output_type": "execute_result"
        }
      ],
      "source": [
        "sparta[sparta.index('Петров')::3]"
      ]
    },
    {
      "cell_type": "markdown",
      "metadata": {
        "id": "LP03T6SGRZ98"
      },
      "source": [
        "Задание 3\n",
        "\n",
        "Для создания позитивной атмосферы перед профессиональным праздником было решено украсить офис воздушными шариками. К покупке шариков решили привлечь каждого пятого сотрудника фирмы. Для удобства решили начать с первой позиции в списке (с Иванова).\n",
        "\n",
        "Напишите код, который извлекает из списка фамилии каждого пятого сотрудника, начиная с Иванова (т.е. Иванова и Козлова).\n",
        "\n",
        "Запишите свой код в одну строку без пробелов. Индексы верхней и нижней границ задайте в явном виде. Не забудьте о правильном написании имени переменной, в которой хранится список"
      ]
    },
    {
      "cell_type": "code",
      "execution_count": 58,
      "metadata": {
        "id": "s_JwjHbqRa9y"
      },
      "outputs": [
        {
          "data": {
            "text/plain": [
              "['Иванов', 'Козлов']"
            ]
          },
          "execution_count": 58,
          "metadata": {},
          "output_type": "execute_result"
        }
      ],
      "source": [
        "sparta[0:-1:5]"
      ]
    },
    {
      "cell_type": "markdown",
      "metadata": {
        "id": "9bBDlAGSRbbB"
      },
      "source": [
        "Иванов возмутился, что из-за того, что его фамилия стоит первая в списке, его постоянно включают во все мероприятия. Руководство ТОО всегда проявляло чуткость к сотрудникам, поэтому кандидатов для участия в субботнике по благоустройству территории решило выбирать не с начала списка, а с противоположной стороны.\n",
        "\n",
        "Вот код, с помощью которого были выбраны участники субботника: sparta[::-3]. Судя по результатам работы кода, кого из сотрудников ждёт продуктивная работа на свежем воздухе?"
      ]
    },
    {
      "cell_type": "code",
      "execution_count": 59,
      "metadata": {
        "id": "-fuot48RRfaV"
      },
      "outputs": [
        {
          "data": {
            "text/plain": [
              "['Арбузов', 'Лисичкин', 'Зайцев', 'Иванов']"
            ]
          },
          "execution_count": 59,
          "metadata": {},
          "output_type": "execute_result"
        }
      ],
      "source": [
        "sparta[::-3]"
      ]
    },
    {
      "cell_type": "markdown",
      "metadata": {
        "id": "_IUgBYgMRgTF"
      },
      "source": [
        "Соседний с ТОО \"Рога и копыта\" офис арендовала команда молодых ребят — организаторов квестов. Чтобы подружиться со своими соседями, они подарили ТОО \"Рога и копыта\" пять бесплатных билетов на ближайший квест. Два билета забрали директор и его заместитель, а оставшиеся билеты было решено разыграть среди сотрудников.\n",
        "\n",
        "Вот код, с помощью которого были выбраны участники квеста: sparta[-2:1:-3]. Судя по результатам работы кода, кого из сотрудников ждёт весёлый вечер в компании начальства?"
      ]
    },
    {
      "cell_type": "code",
      "execution_count": 60,
      "metadata": {
        "id": "TfqlwY3oRkaE"
      },
      "outputs": [
        {
          "data": {
            "text/plain": [
              "['Капустин', 'Козлов', 'Сидоров']"
            ]
          },
          "execution_count": 60,
          "metadata": {},
          "output_type": "execute_result"
        }
      ],
      "source": [
        "sparta[-2:1:-3]"
      ]
    }
  ],
  "metadata": {
    "colab": {
      "provenance": []
    },
    "kernelspec": {
      "display_name": "Python 3",
      "name": "python3"
    },
    "language_info": {
      "codemirror_mode": {
        "name": "ipython",
        "version": 3
      },
      "file_extension": ".py",
      "mimetype": "text/x-python",
      "name": "python",
      "nbconvert_exporter": "python",
      "pygments_lexer": "ipython3",
      "version": "3.12.1"
    }
  },
  "nbformat": 4,
  "nbformat_minor": 0
}
